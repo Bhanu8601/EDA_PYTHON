{
 "cells": [
  {
   "cell_type": "code",
   "execution_count": 1,
   "id": "4e8485fa-81e1-438b-b8b6-daabac822955",
   "metadata": {},
   "outputs": [
    {
     "ename": "SyntaxError",
     "evalue": "invalid syntax (2747105016.py, line 3)",
     "output_type": "error",
     "traceback": [
      "\u001b[1;36m  Cell \u001b[1;32mIn[1], line 3\u001b[1;36m\u001b[0m\n\u001b[1;33m    - Variables are used to store the valuues\u001b[0m\n\u001b[1;37m                ^\u001b[0m\n\u001b[1;31mSyntaxError\u001b[0m\u001b[1;31m:\u001b[0m invalid syntax\n"
     ]
    }
   ],
   "source": [
    "## VARIABLES\n",
    "\n",
    "- Variables are used to store the valuues\n",
    "\n",
    "- and variebles can change"
   ]
  },
  {
   "cell_type": "markdown",
   "id": "097644af-acb7-4dbd-8e3c-eb077c839e2a",
   "metadata": {},
   "source": [
    "## VARIABLES\n",
    "\n",
    "- Variables are used to store the valuues\n",
    "\n",
    "- and variebles can change"
   ]
  },
  {
   "cell_type": "code",
   "execution_count": 2,
   "id": "bd7ab52d-debe-4741-aa99-051609be94f4",
   "metadata": {},
   "outputs": [
    {
     "data": {
      "text/plain": [
       "100"
      ]
     },
     "execution_count": 2,
     "metadata": {},
     "output_type": "execute_result"
    }
   ],
   "source": [
    "number=100 #value 100 stored in a varieble name called 'number'\n",
    "number"
   ]
  },
  {
   "cell_type": "code",
   "execution_count": 3,
   "id": "074bfa2c-62f2-4234-827a-390fa0dbcf7a",
   "metadata": {},
   "outputs": [
    {
     "data": {
      "text/plain": [
       "200"
      ]
     },
     "execution_count": 3,
     "metadata": {},
     "output_type": "execute_result"
    }
   ],
   "source": [
    "number=200 # value 200 stored in a varieble name called 'number'\n",
    "number"
   ]
  },
  {
   "cell_type": "markdown",
   "id": "66e4f0d0-cc2d-4069-9e57-b407453aaa1a",
   "metadata": {},
   "source": [
    "note"
   ]
  },
  {
   "cell_type": "code",
   "execution_count": 4,
   "id": "d05c81b3-a0a1-4646-9eb6-5873ecf3b198",
   "metadata": {},
   "outputs": [
    {
     "name": "stdout",
     "output_type": "stream",
     "text": [
      "100\n",
      "200\n"
     ]
    }
   ],
   "source": [
    "n4,n5=100,200\n",
    "print (n4)\n",
    "print(n5)"
   ]
  },
  {
   "cell_type": "code",
   "execution_count": 5,
   "id": "79c88091-085c-4a01-b7f0-4c0e57c649e2",
   "metadata": {},
   "outputs": [
    {
     "data": {
      "text/plain": [
       "200"
      ]
     },
     "execution_count": 5,
     "metadata": {},
     "output_type": "execute_result"
    }
   ],
   "source": [
    "n4,n5=100,200\n",
    "n4\n",
    "n5"
   ]
  },
  {
   "cell_type": "code",
   "execution_count": 6,
   "id": "31992292-02f0-4da1-9537-350e85d3fbe7",
   "metadata": {},
   "outputs": [],
   "source": [
    "_=1000 works"
   ]
  },
  {
   "cell_type": "code",
   "execution_count": 7,
   "id": "9a72c8a4-f722-45e4-a825-c933c9712856",
   "metadata": {},
   "outputs": [
    {
     "ename": "SyntaxError",
     "evalue": "invalid syntax (2232615016.py, line 1)",
     "output_type": "error",
     "traceback": [
      "\u001b[1;36m  Cell \u001b[1;32mIn[7], line 1\u001b[1;36m\u001b[0m\n\u001b[1;33m    - variables can declare as small and capital letters\u001b[0m\n\u001b[1;37m                ^\u001b[0m\n\u001b[1;31mSyntaxError\u001b[0m\u001b[1;31m:\u001b[0m invalid syntax\n"
     ]
    }
   ],
   "source": [
    "- variables can declare as small and capital letters"
   ]
  },
  {
   "cell_type": "markdown",
   "id": "fd7f0c1a-72a6-4add-ab67-a90a959058e1",
   "metadata": {},
   "source": [
    "- variables can declare as small and capital letters\n",
    "- variables can not have special character except 'underscore'"
   ]
  },
  {
   "cell_type": "markdown",
   "id": "9bb45dcb-a9ad-4524-8f97-6377c0b8330b",
   "metadata": {},
   "source": [
    "- keywords are reserved words cannot use as variable\n"
   ]
  },
  {
   "cell_type": "code",
   "execution_count": 8,
   "id": "a3614fb8-6893-449e-b910-0e618f1dddb5",
   "metadata": {},
   "outputs": [
    {
     "data": {
      "text/plain": [
       "(100, 200)"
      ]
     },
     "execution_count": 8,
     "metadata": {},
     "output_type": "execute_result"
    }
   ],
   "source": [
    "n4=100,200\n",
    "n4"
   ]
  },
  {
   "cell_type": "markdown",
   "id": "bfd2ab9b-5084-4772-b2bb-c9a1e89b5a94",
   "metadata": {},
   "source": [
    "# keywords"
   ]
  },
  {
   "cell_type": "code",
   "execution_count": 10,
   "id": "65a2e687-7863-466e-9b9d-6c09d149736a",
   "metadata": {},
   "outputs": [
    {
     "ename": "SyntaxError",
     "evalue": "invalid syntax (4001165920.py, line 2)",
     "output_type": "error",
     "traceback": [
      "\u001b[1;36m  Cell \u001b[1;32mIn[10], line 2\u001b[1;36m\u001b[0m\n\u001b[1;33m    FALSE only capital\u001b[0m\n\u001b[1;37m          ^\u001b[0m\n\u001b[1;31mSyntaxError\u001b[0m\u001b[1;31m:\u001b[0m invalid syntax\n"
     ]
    }
   ],
   "source": [
    "TRUE\n",
    "FALSE only capital\n"
   ]
  },
  {
   "cell_type": "markdown",
   "id": "182230b6-053d-4471-a32c-ed6b7d431c6b",
   "metadata": {},
   "source": [
    "TRUE\n",
    "FALSE only capital"
   ]
  },
  {
   "cell_type": "markdown",
   "id": "ff27efe2-cc4d-4ba2-ac31-85e723f08990",
   "metadata": {},
   "source": [
    "- control p for print"
   ]
  },
  {
   "cell_type": "code",
   "execution_count": null,
   "id": "548728ee-705b-4f40-931d-bc0e03487b85",
   "metadata": {},
   "outputs": [],
   "source": []
  }
 ],
 "metadata": {
  "kernelspec": {
   "display_name": "Python 3 (ipykernel)",
   "language": "python",
   "name": "python3"
  },
  "language_info": {
   "codemirror_mode": {
    "name": "ipython",
    "version": 3
   },
   "file_extension": ".py",
   "mimetype": "text/x-python",
   "name": "python",
   "nbconvert_exporter": "python",
   "pygments_lexer": "ipython3",
   "version": "3.11.7"
  }
 },
 "nbformat": 4,
 "nbformat_minor": 5
}
