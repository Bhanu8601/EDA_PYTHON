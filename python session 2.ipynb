{
 "cells": [
  {
   "cell_type": "markdown",
   "id": "ff95d478-16e8-4a75-b6af-5b487eab7ed3",
   "metadata": {},
   "source": [
    "**Data types**\n",
    "\n",
    "- in python type declare not requrired\n",
    "\n",
    "- python will automatically takes the type based on provided value \n",
    "\n",
    "- python  have many data types \n",
    "\n",
    "- the main data types are \n",
    "\n",
    "integer\n",
    "float\n",
    "boolean\n",
    "string\n",
    "list\n",
    "tuples\n",
    "dictionary"
   ]
  },
  {
   "cell_type": "code",
   "execution_count": 2,
   "id": "30dc8b9a-33ae-4ffd-a01d-be11ff93658e",
   "metadata": {},
   "outputs": [
    {
     "data": {
      "text/plain": [
       "int"
      ]
     },
     "execution_count": 2,
     "metadata": {},
     "output_type": "execute_result"
    }
   ],
   "source": [
    "\n",
    "n=100\n",
    "type(n)"
   ]
  },
  {
   "cell_type": "code",
   "execution_count": null,
   "id": "50a7c750-f167-4d35-9b7d-678db4d75317",
   "metadata": {},
   "outputs": [],
   "source": [
    "0b1001"
   ]
  },
  {
   "cell_type": "code",
   "execution_count": null,
   "id": "6729fcf5-b596-4cf1-80f8-21676dcc06f4",
   "metadata": {},
   "outputs": [],
   "source": []
  }
 ],
 "metadata": {
  "kernelspec": {
   "display_name": "Python 3 (ipykernel)",
   "language": "python",
   "name": "python3"
  },
  "language_info": {
   "codemirror_mode": {
    "name": "ipython",
    "version": 3
   },
   "file_extension": ".py",
   "mimetype": "text/x-python",
   "name": "python",
   "nbconvert_exporter": "python",
   "pygments_lexer": "ipython3",
   "version": "3.11.7"
  }
 },
 "nbformat": 4,
 "nbformat_minor": 5
}
